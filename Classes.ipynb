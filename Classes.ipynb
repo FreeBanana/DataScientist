{
 "cells": [
  {
   "cell_type": "code",
   "execution_count": 28,
   "metadata": {},
   "outputs": [
    {
     "data": {
      "text/plain": [
       "('XDR', 104.3249)"
      ]
     },
     "execution_count": 28,
     "metadata": {},
     "output_type": "execute_result"
    }
   ],
   "source": [
    "import requests \n",
    "full_data = requests.get('https://www.cbr-xml-daily.ru/daily_json.js').json()\n",
    "def MaxValue():\n",
    "    maks = 0\n",
    "    Name = ''\n",
    "    for values in full_data['Valute']:\n",
    "        if full_data['Valute'][values]['Value'] > maks:\n",
    "            maks = full_data['Valute'][values]['Value']\n",
    "            Name = values\n",
    "    return Name, maks\n",
    "MaxValue()   "
   ]
  },
  {
   "cell_type": "code",
   "execution_count": 37,
   "metadata": {},
   "outputs": [
    {
     "name": "stdout",
     "output_type": "stream",
     "text": [
      "-0.2140000000000004\n"
     ]
    }
   ],
   "source": [
    "class Rate:\n",
    "    def __init__(self, diff=True, format_='value'):\n",
    "        self.format = format_\n",
    "        self.diff = diff\n",
    "    \n",
    "    def exchange_rates(self):\n",
    "        \"\"\"\n",
    "        Возвращает ответ сервиса с информацией о валютах в виде:\n",
    "        \n",
    "        {\n",
    "            'AMD': {\n",
    "                'CharCode': 'AMD',\n",
    "                'ID': 'R01060',\n",
    "                'Name': 'Армянских драмов',\n",
    "                'Nominal': 100,\n",
    "                'NumCode': '051',\n",
    "                'Previous': 14.103,\n",
    "                'Value': 14.0879\n",
    "                },\n",
    "            ...\n",
    "        }\n",
    "        \"\"\"\n",
    "        self.r = requests.get('https://www.cbr-xml-daily.ru/daily_json.js')\n",
    "        return self.r.json()['Valute']\n",
    "    \n",
    "    def make_format(self, currency):\n",
    "        \"\"\"\n",
    "        Возвращает информацию о валюте currency в двух вариантах:\n",
    "        - полная информация о валюте при self.format = 'full':\n",
    "        Rate('full').make_format('EUR')\n",
    "        {\n",
    "            'CharCode': 'EUR',\n",
    "            'ID': 'R01239',\n",
    "            'Name': 'Евро',\n",
    "            'Nominal': 1,\n",
    "            'NumCode': '978',\n",
    "            'Previous': 79.6765,\n",
    "            'Value': 79.4966\n",
    "        }\n",
    "        \n",
    "        Rate('value').make_format('EUR')\n",
    "        79.4966\n",
    "        \"\"\"\n",
    "        response = self.exchange_rates()\n",
    "        \n",
    "        if currency in response:\n",
    "            if self.format == 'full':\n",
    "                return response[currency]\n",
    "            \n",
    "            if self.format == 'value':\n",
    "                return response[currency]['Value']\n",
    "        \n",
    "        return 'Error'\n",
    "    \n",
    "    def eur(self):\n",
    "        \"\"\"Возвращает курс евро на сегодня в формате self.format\"\"\"\n",
    "        if self.diff:\n",
    "            change = self.exchange_rates()['EUR']['Value'] - self.exchange_rates()['EUR']['Previous']\n",
    "            return change\n",
    "        else:\n",
    "            return self.make_format('EUR')\n",
    "            \n",
    "    \n",
    "    def usd(self):\n",
    "        \"\"\"Возвращает курс доллара на сегодня в формате self.format\"\"\"\n",
    "        if self.diff:\n",
    "            change = self.exchange_rates()['USD']['Value'] - self.exchange_rates()['USD']['Previous']\n",
    "            return change\n",
    "        else:\n",
    "            return self.make_format('USD')\n",
    "    \n",
    "    def brl(self):\n",
    "        \"\"\"Возвращает курс бразильского реала на сегодня в формате self.format\"\"\"\n",
    "        if self.diff:\n",
    "            change = self.exchange_rates()['BRL']['Value'] - self.exchange_rates()['BRL']['Previous']\n",
    "            return change\n",
    "        else:\n",
    "            return self.make_format('BRL')\n",
    "r = Rate(True)\n",
    "print(r.brl())"
   ]
  },
  {
   "cell_type": "code",
   "execution_count": 39,
   "metadata": {},
   "outputs": [
    {
     "name": "stdout",
     "output_type": "stream",
     "text": [
      "Александр 0\n",
      "Александр 0\n",
      "Александр 1\n",
      "Александр 1\n",
      "Александр 1\n",
      "Александр 1\n",
      "Александр 1\n",
      "Александр 1\n",
      "Александр 1\n",
      "Александр 2\n",
      "Александр 2\n",
      "Александр 2\n",
      "Александр 2\n",
      "Александр 2\n",
      "Александр 2\n",
      "Александр 2\n",
      "Александр 3\n",
      "Александр 3\n",
      "Александр 3\n",
      "Александр 3\n"
     ]
    }
   ],
   "source": [
    "class Designer:\n",
    "    def __init__(self, name, seniority, prizes = 2):\n",
    "        self.name = name\n",
    "        self.prizes = prizes\n",
    "        self.seniority = seniority + prizes * 2\n",
    "        self.grade = self.seniority // 7    \n",
    "        \n",
    "    def grade_up(self):\n",
    "        self.grade += 1\n",
    "    \n",
    "    def publish_grade(self):\n",
    "        print(self.name, self.grade)\n",
    "    \n",
    "    def check_if_it_is_time_for_upgrade(self):\n",
    "        self.seniority += 1\n",
    "        if self.seniority % 7 == 0:\n",
    "            self.grade_up()\n",
    "        return self.publish_grade()\n",
    "alex = Designer('Александр', 0)\n",
    "for i in range(20):\n",
    "    alex.check_if_it_is_time_for_upgrade()"
   ]
  },
  {
   "cell_type": "code",
   "execution_count": null,
   "metadata": {},
   "outputs": [],
   "source": []
  }
 ],
 "metadata": {
  "kernelspec": {
   "display_name": "Python 3",
   "language": "python",
   "name": "python3"
  },
  "language_info": {
   "codemirror_mode": {
    "name": "ipython",
    "version": 3
   },
   "file_extension": ".py",
   "mimetype": "text/x-python",
   "name": "python",
   "nbconvert_exporter": "python",
   "pygments_lexer": "ipython3",
   "version": "3.8.5"
  }
 },
 "nbformat": 4,
 "nbformat_minor": 4
}
