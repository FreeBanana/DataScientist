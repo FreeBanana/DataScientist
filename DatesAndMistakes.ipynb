{
 "cells": [
  {
   "cell_type": "code",
   "execution_count": 5,
   "metadata": {},
   "outputs": [
    {
     "data": {
      "text/plain": [
       "datetime.datetime(1977, 8, 18, 0, 0)"
      ]
     },
     "execution_count": 5,
     "metadata": {},
     "output_type": "execute_result"
    }
   ],
   "source": [
    "from datetime import datetime\n",
    "date_1 = 'Wednesday, October 2, 2002'\n",
    "date_2 = 'Friday, 11.10.13'\n",
    "date_3 = 'Thursday, 18 August 1977'\n",
    "date_1 = datetime.strptime( date_1, '%A, %B %d, %Y')\n",
    "date_2 = datetime.strptime( date_2, '%A, %m.%d.%y')\n",
    "date_3 = datetime.strptime( date_3, '%A, %d %B %Y')"
   ]
  },
  {
   "cell_type": "code",
   "execution_count": 13,
   "metadata": {},
   "outputs": [
    {
     "data": {
      "text/plain": [
       "[True, False, False]"
      ]
     },
     "execution_count": 13,
     "metadata": {},
     "output_type": "execute_result"
    }
   ],
   "source": [
    "from datetime import datetime\n",
    "stream = ['2018-04-02', '2018-02-29', '2018-19-02']\n",
    "def Check(spis):\n",
    "    ans = []\n",
    "    for date in spis:\n",
    "        try:\n",
    "            date = datetime.strptime(date, '%Y-%m-%d')\n",
    "            ans.append(bool(1))  \n",
    "        except:\n",
    "            ans.append(bool(0)) \n",
    "    return ans\n",
    "Check(stream)\n"
   ]
  },
  {
   "cell_type": "code",
   "execution_count": 9,
   "metadata": {},
   "outputs": [
    {
     "name": "stdout",
     "output_type": "stream",
     "text": [
      "Стартовая дата 2003-07-14\n",
      "Конечная дата 2003-07-21\n"
     ]
    },
    {
     "data": {
      "text/plain": [
       "['2003-07-14',\n",
       " '2003-07-15',\n",
       " '2003-07-16',\n",
       " '2003-07-17',\n",
       " '2003-07-18',\n",
       " '2003-07-19',\n",
       " '2003-07-20',\n",
       " '2003-07-21']"
      ]
     },
     "execution_count": 9,
     "metadata": {},
     "output_type": "execute_result"
    }
   ],
   "source": [
    "from datetime import datetime\n",
    "from datetime import timedelta\n",
    "def date_range():\n",
    "    result = []\n",
    "    start_date = input('Стартовая дата ')\n",
    "    end_date = input('Конечная дата ')\n",
    "    try:\n",
    "        start_date = datetime.strptime(start_date, '%Y-%m-%d')\n",
    "        end_date = datetime.strptime(end_date, '%Y-%m-%d')\n",
    "    except:\n",
    "        print ('Неверный формат')\n",
    "        return result\n",
    "    if start_date > end_date:\n",
    "        print ('Стартовая дата больше конечной')\n",
    "        return result\n",
    "    else:\n",
    "        while start_date <= end_date:\n",
    "            result.append(datetime.strftime(start_date, '%Y-%m-%d'))\n",
    "            start_date += timedelta(days=1)\n",
    "        return result\n",
    "date_range()"
   ]
  },
  {
   "cell_type": "code",
   "execution_count": null,
   "metadata": {},
   "outputs": [],
   "source": []
  },
  {
   "cell_type": "code",
   "execution_count": null,
   "metadata": {},
   "outputs": [],
   "source": []
  }
 ],
 "metadata": {
  "kernelspec": {
   "display_name": "Python 3",
   "language": "python",
   "name": "python3"
  },
  "language_info": {
   "codemirror_mode": {
    "name": "ipython",
    "version": 3
   },
   "file_extension": ".py",
   "mimetype": "text/x-python",
   "name": "python",
   "nbconvert_exporter": "python",
   "pygments_lexer": "ipython3",
   "version": "3.8.5"
  }
 },
 "nbformat": 4,
 "nbformat_minor": 4
}
