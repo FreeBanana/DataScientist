{
 "cells": [
  {
   "cell_type": "code",
   "execution_count": 7,
   "metadata": {},
   "outputs": [
    {
     "name": "stdout",
     "output_type": "stream",
     "text": [
      "123\n",
      "12\n",
      "Фраза 1 длиннее фразы 2\n"
     ]
    }
   ],
   "source": [
    "phrase_1 = str(input())\n",
    "phrase_2 = str(input())\n",
    "if len(phrase_1) > len(phrase_2):\n",
    "    print ('Фраза 1 длиннее фразы 2')\n",
    "elif len(phrase_1) < len(phrase_2):\n",
    "    print ('Фраза 2 длиннее фразы 1')\n",
    "else:\n",
    "    print('Фразы равной длины')"
   ]
  },
  {
   "cell_type": "code",
   "execution_count": 9,
   "metadata": {
    "scrolled": true
   },
   "outputs": [
    {
     "name": "stdout",
     "output_type": "stream",
     "text": [
      "2012\n",
      "Високосный год\n"
     ]
    }
   ],
   "source": [
    "year = int(input())\n",
    "if year % 4 == 0:\n",
    "    print ('Високосный год')\n",
    "else:\n",
    "    print ('Обычный год')"
   ]
  },
  {
   "cell_type": "code",
   "execution_count": 11,
   "metadata": {},
   "outputs": [
    {
     "name": "stdout",
     "output_type": "stream",
     "text": [
      "Введите день рождения:14\n",
      "Введите месяц рождения:7\n",
      "Знак зодиака:Рак\n"
     ]
    }
   ],
   "source": [
    "date = int(input(\"Введите день рождения:\"))\n",
    "month = int(input(\"Введите месяц рождения:\"))\n",
    "if (date >= 21 and date <= 31 and month == 3) or( month == 4 and date >= 1 and date <= 19):\n",
    "   print(\"Знак зодиака:Овен\")\n",
    "elif (date >= 20 and date <= 30 and month == 4) or( month == 5 and date >= 1 and date <= 20):\n",
    "   print(\"Знак зодиака:Телец\")\n",
    "elif (date >= 21 and date <= 31 and month == 5) or( month == 6 and date >= 1 and date <= 21):\n",
    "   print(\"Знак зодиака:Близнецы\")\n",
    "elif (date >= 22 and date <= 30 and month == 6) or( month == 7 and date >= 1 and date <= 22):\n",
    "   print(\"Знак зодиака:Рак\")\n",
    "elif (date >= 23 and date <= 31 and month == 7) or( month == 8 and date >= 1 and date <= 22):\n",
    "   print(\"Знак зодиака:Лев\")\n",
    "elif (date >= 23 and date <= 31 and month == 8) or( month == 9 and date >= 1 and date <= 22):\n",
    "   print(\"Знак зодиака:Дева\")\n",
    "elif (date >= 23 and date <= 30 and month == 9) or( month == 10 and date >= 1 and date <= 23):\n",
    "   print(\"Знак зодиака:Весы\")\n",
    "elif (date >= 24 and date <= 31 and month == 10) or( month == 11 and date >= 1 and date <= 22):\n",
    "   print(\"Знак зодиака:Скорпион\")\n",
    "elif (date >= 23 and date <= 30 and month == 11) or( month == 12 and date >= 1 and date <= 21):\n",
    "   print(\"Знак зодиака:Стрелец\")\n",
    "elif (date >= 22 and date <= 31 and month == 12) or( month == 1 and date >= 1 and date <= 20):\n",
    "   print(\"Знак зодиака:Козерог\")\n",
    "elif (date >= 21 and date <= 31 and month == 1) or( month == 2 and date >= 1 and date <= 18):\n",
    "   print(\"Знак зодиака:Водолей\")\n",
    "elif (date >= 19 and date <= 29 and month == 2) or( month == 3 and date >= 1 and date <= 20):\n",
    "   print(\"Знак зодиака:Рыбы\")"
   ]
  },
  {
   "cell_type": "code",
   "execution_count": 14,
   "metadata": {},
   "outputs": [
    {
     "name": "stdout",
     "output_type": "stream",
     "text": [
      "10\n",
      "201\n",
      "10\n",
      "Упаковка для лыж\n"
     ]
    }
   ],
   "source": [
    "width = int(input())\n",
    "length = int(input())\n",
    "height = int(input())\n",
    "if width < 15 and length < 15 and height < 15:\n",
    "    print ('Коробка №1')\n",
    "elif (width > 15 and width < 50) or (length > 15 and length < 50) or (height > 15 and height < 50):\n",
    "    print ('Коробка №2')\n",
    "elif length > 200:\n",
    "    print ('Упаковка для лыж')\n",
    "else: print ('Коробка №3')"
   ]
  },
  {
   "cell_type": "code",
   "execution_count": null,
   "metadata": {},
   "outputs": [],
   "source": []
  }
 ],
 "metadata": {
  "kernelspec": {
   "display_name": "Python 3",
   "language": "python",
   "name": "python3"
  },
  "language_info": {
   "codemirror_mode": {
    "name": "ipython",
    "version": 3
   },
   "file_extension": ".py",
   "mimetype": "text/x-python",
   "name": "python",
   "nbconvert_exporter": "python",
   "pygments_lexer": "ipython3",
   "version": "3.8.5"
  }
 },
 "nbformat": 4,
 "nbformat_minor": 4
}
